{
 "cells": [
  {
   "cell_type": "code",
   "execution_count": 2,
   "id": "f2434740-83d1-428e-812d-b00f56888f7b",
   "metadata": {},
   "outputs": [],
   "source": [
    "from helpers import daterange"
   ]
  },
  {
   "cell_type": "code",
   "execution_count": 1,
   "id": "a9bfa4a9-483d-47a4-801f-02025c622f7f",
   "metadata": {},
   "outputs": [],
   "source": [
    "start = cowait.input('start', '20210101')\n",
    "end = cowait.input('end', '20210110')"
   ]
  },
  {
   "cell_type": "code",
   "execution_count": 11,
   "id": "d59b04a9-c842-4a7b-8bfb-7007d5dd9bcb",
   "metadata": {
    "tags": []
   },
   "outputs": [
    {
     "data": {
      "text/html": [
       "<pre>notebook-runner-pamjcnhj: 2556420\n",
       "</pre>"
      ],
      "text/plain": [
       "<IPython.core.display.HTML object>"
      ]
     },
     "metadata": {},
     "output_type": "display_data"
    },
    {
     "data": {
      "text/html": [
       "<pre>notebook-runner-kgqxbrfh: 5595340\n",
       "</pre>"
      ],
      "text/plain": [
       "<IPython.core.display.HTML object>"
      ]
     },
     "metadata": {},
     "output_type": "display_data"
    }
   ],
   "source": [
    "subtasks = [\n",
    "    NotebookRunner(path='volume.ipynb', date=date)\n",
    "    for date in daterange(start, end)\n",
    "]"
   ]
  },
  {
   "cell_type": "code",
   "execution_count": 12,
   "id": "7cf4fc22-3bb5-4653-8275-eb8d4040782a",
   "metadata": {},
   "outputs": [
    {
     "data": {
      "text/html": [
       "<pre>notebook-runner-lgahdreu: 5616640\n",
       "</pre>"
      ],
      "text/plain": [
       "<IPython.core.display.HTML object>"
      ]
     },
     "metadata": {},
     "output_type": "display_data"
    },
    {
     "data": {
      "text/html": [
       "<pre>notebook-runner-jgqzhrtl: 6369540\n",
       "</pre>"
      ],
      "text/plain": [
       "<IPython.core.display.HTML object>"
      ]
     },
     "metadata": {},
     "output_type": "display_data"
    },
    {
     "data": {
      "text/html": [
       "<pre>notebook-runner-vbwfriau: 5245580\n",
       "</pre>"
      ],
      "text/plain": [
       "<IPython.core.display.HTML object>"
      ]
     },
     "metadata": {},
     "output_type": "display_data"
    },
    {
     "data": {
      "text/html": [
       "<pre>notebook-runner-bfzxncsd: 4201190\n",
       "</pre>"
      ],
      "text/plain": [
       "<IPython.core.display.HTML object>"
      ]
     },
     "metadata": {},
     "output_type": "display_data"
    },
    {
     "data": {
      "text/html": [
       "<pre>notebook-runner-xfeyufit: 5733670\n",
       "</pre>"
      ],
      "text/plain": [
       "<IPython.core.display.HTML object>"
      ]
     },
     "metadata": {},
     "output_type": "display_data"
    },
    {
     "data": {
      "text/html": [
       "<pre>notebook-runner-blhdlkkm: 6086640\n",
       "</pre>"
      ],
      "text/plain": [
       "<IPython.core.display.HTML object>"
      ]
     },
     "metadata": {},
     "output_type": "display_data"
    },
    {
     "data": {
      "text/html": [
       "<pre>notebook-runner-lxeyqewn: 6829130\n",
       "</pre>"
      ],
      "text/plain": [
       "<IPython.core.display.HTML object>"
      ]
     },
     "metadata": {},
     "output_type": "display_data"
    },
    {
     "name": "stdout",
     "output_type": "stream",
     "text": [
      "[2556420, 5595340, 5616640, 6369540, 5245580, 5733670, 6086640, 6829130, 4201190]\n"
     ]
    }
   ],
   "source": [
    "results = await cowait.join(subtasks)\n",
    "print(results)"
   ]
  },
  {
   "cell_type": "code",
   "execution_count": 13,
   "id": "3f005b2b-0e64-4c85-96ff-379360297e03",
   "metadata": {},
   "outputs": [
    {
     "ename": "StoppedError",
     "evalue": "Exited",
     "output_type": "error",
     "traceback": [
      "Returned with result:",
      "[2556420, 5595340, 5616640, 6369540, 5245580, 5733670, 6086640, 6829130, 4201190]"
     ]
    }
   ],
   "source": [
    "cowait.exit(results)"
   ]
  }
 ],
 "metadata": {
  "kernelspec": {
   "display_name": "Cowait",
   "language": "python",
   "name": "cowait"
  },
  "language_info": {
   "codemirror_mode": {
    "name": "ipython",
    "version": 3
   },
   "file_extension": ".py",
   "mimetype": "text/x-python",
   "name": "python",
   "nbconvert_exporter": "python",
   "pygments_lexer": "ipython3",
   "version": "3.7.10"
  }
 },
 "nbformat": 4,
 "nbformat_minor": 5
}
