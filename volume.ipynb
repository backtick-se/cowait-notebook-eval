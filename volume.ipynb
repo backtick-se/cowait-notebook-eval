{
 "cells": [
  {
   "cell_type": "code",
   "execution_count": 1,
   "id": "6ef15470-a41a-48ba-8ba2-6f025f0b0903",
   "metadata": {},
   "outputs": [],
   "source": [
    "import pandas as pd"
   ]
  },
  {
   "cell_type": "code",
   "execution_count": 5,
   "id": "a4d76251-d78f-4624-a360-41f63990d03f",
   "metadata": {},
   "outputs": [],
   "source": [
    "date = cowait.input('date', '20200101')\n",
    "df = pd.read_csv(f'https://s3-eu-west-1.amazonaws.com/public.bitmex.com/data/trade/{date}.csv.gz')"
   ]
  },
  {
   "cell_type": "code",
   "execution_count": 8,
   "id": "9775491a-b6d8-4731-941f-5ebd22fec78a",
   "metadata": {},
   "outputs": [
    {
     "name": "stdout",
     "output_type": "stream",
     "text": [
      "2556420\n"
     ]
    }
   ],
   "source": [
    "volume = df[df.symbol == 'XBTUSD'].size.sum()\n",
    "print(volume)"
   ]
  },
  {
   "cell_type": "code",
   "execution_count": 9,
   "id": "61401334-cb5d-494d-a955-3339591649c0",
   "metadata": {},
   "outputs": [
    {
     "ename": "StoppedError",
     "evalue": "Exited",
     "output_type": "error",
     "traceback": [
      "Returned with result:",
      "2556420"
     ]
    }
   ],
   "source": [
    "cowait.exit(volume)"
   ]
  }
 ],
 "metadata": {
  "kernelspec": {
   "display_name": "Cowait",
   "language": "python",
   "name": "cowait"
  },
  "language_info": {
   "codemirror_mode": {
    "name": "ipython",
    "version": 3
   },
   "file_extension": ".py",
   "mimetype": "text/x-python",
   "name": "python",
   "nbconvert_exporter": "python",
   "pygments_lexer": "ipython3",
   "version": "3.7.10"
  }
 },
 "nbformat": 4,
 "nbformat_minor": 5
}
